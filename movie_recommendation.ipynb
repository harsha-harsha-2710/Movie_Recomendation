{
  "nbformat": 4,
  "nbformat_minor": 0,
  "metadata": {
    "colab": {
      "provenance": []
    },
    "kernelspec": {
      "name": "python3",
      "display_name": "Python 3"
    },
    "language_info": {
      "name": "python"
    }
  },
  "cells": [
    {
      "source": [
        "import pandas as pd\n",
        "import numpy as np\n",
        "from sklearn.metrics.pairwise import cosine_similarity\n",
        "\n",
        "url = 'https://raw.githubusercontent.com/ybifoundation/Dataset/main/Movies%20Recommendation.csv'\n",
        "\n",
        "# Loading the dataset\n",
        "ratings_df = pd.read_csv(url)\n",
        "\n",
        "\n",
        "def get_recommendations(target_movie, user_movie_matrix, user_similarity_df, ratings_df, n_recommendations=5):\n",
        "\n",
        "    target_movie_index = user_movie_matrix.index.get_loc(target_movie)\n",
        "\n",
        "    similar_movie_indices = user_similarity_df.iloc[target_movie_index].sort_values(ascending=False).index[1:]\n",
        "\n",
        "    recommended_movie_ids = similar_movie_indices[:n_recommendations]\n",
        "    recommended_movie_titles = ratings_df[ratings_df['Movie_ID'].isin(recommended_movie_ids)]['Movie_Title']\n",
        "\n",
        "    return recommended_movie_titles\n",
        "\n",
        "target_movie = int(input(\"Enter target Movie_ID : \"))\n",
        "recommendations = get_recommendations(target_movie, user_movie_matrix, user_similarity_df, ratings_df)\n",
        "print(f\"\\nTop Recommendations for Movie ID {target_movie}:\")\n",
        "print()\n",
        "print(recommendations)"
      ],
      "cell_type": "code",
      "metadata": {
        "colab": {
          "base_uri": "https://localhost:8080/"
        },
        "id": "Mka-JjXmWLgB",
        "outputId": "acf41555-5ff4-4d40-d4ed-dd203d4b2b92"
      },
      "execution_count": 16,
      "outputs": [
        {
          "output_type": "stream",
          "name": "stdout",
          "text": [
            "Enter target Movie_ID : 1\n",
            "\n",
            "Top Recommendations for Movie ID 1:\n",
            "\n",
            "3174                    Immortals\n",
            "3175                  Brown Sugar\n",
            "3176    The Trials Of Darryl Hunt\n",
            "3177                   Ira & Abby\n",
            "3179                 Chain Letter\n",
            "Name: Movie_Title, dtype: object\n"
          ]
        }
      ]
    }
  ]
}