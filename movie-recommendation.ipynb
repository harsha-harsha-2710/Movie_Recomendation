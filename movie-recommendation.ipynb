{
  "nbformat": 4,
  "nbformat_minor": 0,
  "metadata": {
    "colab": {
      "provenance": []
    },
    "kernelspec": {
      "name": "python3",
      "display_name": "Python 3"
    },
    "language_info": {
      "name": "python"
    }
  },
  "cells": [
    {
      "cell_type": "code",
      "execution_count": 8,
      "metadata": {
        "colab": {
          "base_uri": "https://localhost:8080/"
        },
        "id": "EmIacC7RqbeP",
        "outputId": "aef3ef67-2147-445a-a4e7-4cf457b8bd0d"
      },
      "outputs": [
        {
          "output_type": "stream",
          "name": "stdout",
          "text": [
            "Sample Ratings DataFrame:\n",
            "\n",
            "User-Item Matrix:\n",
            "\n",
            "User Similarity Matrix:\n",
            "Movie_ID  1     2     3     4     5     6     7     8     9     10    ...  \\\n",
            "Movie_ID                                                              ...   \n",
            "1          1.0   0.0   0.0   0.0   0.0   0.0   0.0   0.0   0.0   0.0  ...   \n",
            "2          0.0   1.0   0.0   0.0   0.0   0.0   0.0   0.0   0.0   0.0  ...   \n",
            "3          0.0   0.0   1.0   0.0   0.0   0.0   0.0   0.0   0.0   0.0  ...   \n",
            "4          0.0   0.0   0.0   1.0   0.0   0.0   0.0   0.0   0.0   0.0  ...   \n",
            "5          0.0   0.0   0.0   0.0   1.0   0.0   0.0   0.0   0.0   0.0  ...   \n",
            "\n",
            "Movie_ID  4778  4779  4780  4781  4782  4783  4784  4785  4786  4787  \n",
            "Movie_ID                                                              \n",
            "1          0.0   0.0   0.0   0.0   0.0   0.0   0.0   0.0   0.0   0.0  \n",
            "2          0.0   0.0   0.0   0.0   0.0   0.0   0.0   0.0   0.0   0.0  \n",
            "3          0.0   0.0   0.0   0.0   0.0   0.0   0.0   0.0   0.0   0.0  \n",
            "4          0.0   0.0   0.0   0.0   0.0   0.0   0.0   0.0   0.0   0.0  \n",
            "5          0.0   0.0   0.0   0.0   0.0   0.0   0.0   0.0   0.0   0.0  \n",
            "\n",
            "[5 rows x 4758 columns]\n",
            "\n",
            "Top 5 Recommendations based on movie at index 1:\n",
            "Movie_Title\n",
            "10 Cloverfield Lane                    0.0\n",
            "Stan Helsing                           0.0\n",
            "St. Vincent                            0.0\n",
            "St. Trinian's                          0.0\n",
            "Spy Kids: All the Time in the World    0.0\n",
            "dtype: float64\n"
          ]
        }
      ],
      "source": [
        "import pandas as pd\n",
        "import numpy as np\n",
        "from sklearn.metrics.pairwise import cosine_similarity\n",
        "\n",
        "# URL of the dataset in GitHub\n",
        "url = 'https://raw.githubusercontent.com/ybifoundation/Dataset/main/Movies%20Recommendation.csv'\n",
        "\n",
        "# Load the dataset\n",
        "ratings_df = pd.read_csv(url)\n",
        "print(\"Sample Ratings DataFrame:\")\n",
        "\n",
        "# Create a user-item matrix\n",
        "user_movie_matrix = ratings_df.pivot_table(index='Movie_ID', columns='Movie_Title', values='Movie_Runtime')\n",
        "print(\"\\nUser-Item Matrix:\")\n",
        "\n",
        "# Fill NaN values with 0 (assume missing ratings are 0)\n",
        "user_movie_matrix_filled = user_movie_matrix.fillna(0)\n",
        "\n",
        "# Compute cosine similarity between users\n",
        "user_similarity = cosine_similarity(user_movie_matrix_filled)\n",
        "user_similarity_df = pd.DataFrame(user_similarity, index=user_movie_matrix.index, columns=user_movie_matrix.index)\n",
        "print(\"\\nUser Similarity Matrix:\")\n",
        "print(user_similarity_df.head())\n",
        "\n",
        "# Recommend movies based on movie index\n",
        "def get_movie_recommendations(movie_index, user_movie_matrix, user_similarity_df, n_recommendations=5):\n",
        "    # Get the movie title based on the index\n",
        "    movie_title = user_movie_matrix.columns[movie_index]\n",
        "\n",
        "    # Identify users who have rated the target movie\n",
        "    target_users = user_movie_matrix[user_movie_matrix[movie_title].notnull()].index\n",
        "\n",
        "    recommendations = pd.Series(dtype=float)\n",
        "\n",
        "    for target_user in target_users:\n",
        "        similar_users = user_similarity_df[target_user].sort_values(ascending=False).index[1:]\n",
        "        target_user_ratings = user_movie_matrix.loc[target_user]\n",
        "\n",
        "        for user in similar_users:\n",
        "            user_ratings = user_movie_matrix.loc[user]\n",
        "            weighted_ratings = user_ratings * user_similarity_df.loc[target_user, user]\n",
        "            recommendations = recommendations.add(weighted_ratings, fill_value=0)\n",
        "\n",
        "    # Remove movies the target users have already rated\n",
        "    recommendations = recommendations[target_user_ratings.isnull()]\n",
        "\n",
        "    # Sort and return top N recommendations\n",
        "    return recommendations.sort_values(ascending=False).head(n_recommendations)\n",
        "\n",
        "# Example: Get recommendations for the movie at index 0\n",
        "movie_index = int(input("Enter target movie index : "))\n",
        "recommendations = get_movie_recommendations(movie_index, user_movie_matrix, user_similarity_df)\n",
        "print(f\"\\nTop 5 Recommendations based on movie at index {movie_index}:\")\n",
        "print(recommendations)\n"
      ]
    }
  ]
}
